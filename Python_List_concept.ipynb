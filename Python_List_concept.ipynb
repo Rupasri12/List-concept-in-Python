{
  "nbformat": 4,
  "nbformat_minor": 0,
  "metadata": {
    "colab": {
      "provenance": []
    },
    "kernelspec": {
      "name": "python3",
      "display_name": "Python 3"
    },
    "language_info": {
      "name": "python"
    }
  },
  "cells": [
    {
      "cell_type": "markdown",
      "source": [
        "- `Python list is going to represented with -> []`\n",
        "- `Python list is going to accept any data type -> int | float | str | boolean`"
      ],
      "metadata": {
        "id": "kT-3010S6YWG"
      }
    },
    {
      "cell_type": "code",
      "execution_count": null,
      "metadata": {
        "colab": {
          "base_uri": "https://localhost:8080/"
        },
        "id": "HL58USI157Kb",
        "outputId": "5a3042e1-fb9c-4db2-8d64-55e35e8bebed"
      },
      "outputs": [
        {
          "output_type": "stream",
          "name": "stdout",
          "text": [
            "[10, 55.55, 'data']\n"
          ]
        }
      ],
      "source": [
        "a = [10,55.55,'data'] # save in the Memory\n",
        "\n",
        "print(a) # calling from the Memory"
      ]
    },
    {
      "cell_type": "code",
      "source": [
        "print(a[1])"
      ],
      "metadata": {
        "colab": {
          "base_uri": "https://localhost:8080/"
        },
        "id": "CaENdJbm7aUK",
        "outputId": "2a4d16ff-8242-451e-d380-e8834f0ab165"
      },
      "execution_count": null,
      "outputs": [
        {
          "output_type": "stream",
          "name": "stdout",
          "text": [
            "55.55\n"
          ]
        }
      ]
    },
    {
      "cell_type": "markdown",
      "source": [
        "`same like string `\n",
        "\n",
        "- `memory allocation `\n",
        "- `Indexing `\n",
        "- `slicing `\n",
        "- `skipping `"
      ],
      "metadata": {
        "id": "Zp8KE2W27pWc"
      }
    },
    {
      "cell_type": "code",
      "source": [
        "a = [10,15,19,3,7,32,17] # save memory\n",
        "\n",
        "print(a[4])"
      ],
      "metadata": {
        "colab": {
          "base_uri": "https://localhost:8080/"
        },
        "id": "wqIY67Y37lK5",
        "outputId": "e001463b-1820-4dd8-cb2e-064b4cc55745"
      },
      "execution_count": null,
      "outputs": [
        {
          "output_type": "stream",
          "name": "stdout",
          "text": [
            "7\n"
          ]
        }
      ]
    },
    {
      "cell_type": "code",
      "source": [
        "print(a[2:5])"
      ],
      "metadata": {
        "colab": {
          "base_uri": "https://localhost:8080/"
        },
        "id": "LH5vwpIZ8J0h",
        "outputId": "af490cb9-a53d-4a41-c13b-3f307038a77d"
      },
      "execution_count": null,
      "outputs": [
        {
          "output_type": "stream",
          "name": "stdout",
          "text": [
            "[19, 3, 7]\n"
          ]
        }
      ]
    },
    {
      "cell_type": "code",
      "source": [
        "print(a[::2])"
      ],
      "metadata": {
        "colab": {
          "base_uri": "https://localhost:8080/"
        },
        "id": "Qg9a2-AQ8PvE",
        "outputId": "71137596-0cf1-4f82-b6ff-5b85ce45c9fb"
      },
      "execution_count": null,
      "outputs": [
        {
          "output_type": "stream",
          "name": "stdout",
          "text": [
            "[10, 19, 7, 17]\n"
          ]
        }
      ]
    },
    {
      "cell_type": "code",
      "source": [
        "print(a[:])"
      ],
      "metadata": {
        "colab": {
          "base_uri": "https://localhost:8080/"
        },
        "id": "u33Nqnn58UTD",
        "outputId": "b14eae0b-ec0e-4cb2-cb5a-d9311aaea512"
      },
      "execution_count": null,
      "outputs": [
        {
          "output_type": "stream",
          "name": "stdout",
          "text": [
            "[10, 15, 19, 3, 7, 32, 17]\n"
          ]
        }
      ]
    },
    {
      "cell_type": "code",
      "source": [
        "print(a[2:])"
      ],
      "metadata": {
        "colab": {
          "base_uri": "https://localhost:8080/"
        },
        "id": "unpnCgtq8i9p",
        "outputId": "92ecf8de-4d7b-4afb-e439-eaddbd18f63c"
      },
      "execution_count": null,
      "outputs": [
        {
          "output_type": "stream",
          "name": "stdout",
          "text": [
            "[19, 3, 7, 32, 17]\n"
          ]
        }
      ]
    },
    {
      "cell_type": "code",
      "source": [
        "print(a[:4])"
      ],
      "metadata": {
        "colab": {
          "base_uri": "https://localhost:8080/"
        },
        "id": "r31CM5ZA8pdU",
        "outputId": "5c29feb2-6a79-4012-a4f1-1ac45b5f23dc"
      },
      "execution_count": null,
      "outputs": [
        {
          "output_type": "stream",
          "name": "stdout",
          "text": [
            "[10, 15, 19, 3]\n"
          ]
        }
      ]
    },
    {
      "cell_type": "code",
      "source": [
        "print(a[::-1])"
      ],
      "metadata": {
        "colab": {
          "base_uri": "https://localhost:8080/"
        },
        "id": "UGQ9ERms8tzh",
        "outputId": "12ea78e1-6a61-4af6-ef7c-8170b8641c96"
      },
      "execution_count": null,
      "outputs": [
        {
          "output_type": "stream",
          "name": "stdout",
          "text": [
            "[17, 32, 7, 3, 19, 15, 10]\n"
          ]
        }
      ]
    },
    {
      "cell_type": "markdown",
      "source": [
        "**Python List is Mutable or Immutable -> prove it**"
      ],
      "metadata": {
        "id": "oSd152w29NIL"
      }
    },
    {
      "cell_type": "code",
      "source": [
        "# add\n",
        "\n",
        "a = [10,50,3,13] # save in memory\n",
        "\n",
        "a[4] = 500\n",
        "\n",
        "print(a)"
      ],
      "metadata": {
        "colab": {
          "base_uri": "https://localhost:8080/",
          "height": 234
        },
        "id": "TjcZ0TRF8xxU",
        "outputId": "1490b489-45a6-41de-bb17-1e0c237b1473"
      },
      "execution_count": null,
      "outputs": [
        {
          "output_type": "error",
          "ename": "IndexError",
          "evalue": "list assignment index out of range",
          "traceback": [
            "\u001b[0;31m---------------------------------------------------------------------------\u001b[0m",
            "\u001b[0;31mIndexError\u001b[0m                                Traceback (most recent call last)",
            "\u001b[0;32m<ipython-input-10-5f99a51d0812>\u001b[0m in \u001b[0;36m<cell line: 5>\u001b[0;34m()\u001b[0m\n\u001b[1;32m      3\u001b[0m \u001b[0ma\u001b[0m \u001b[0;34m=\u001b[0m \u001b[0;34m[\u001b[0m\u001b[0;36m10\u001b[0m\u001b[0;34m,\u001b[0m\u001b[0;36m50\u001b[0m\u001b[0;34m,\u001b[0m\u001b[0;36m3\u001b[0m\u001b[0;34m,\u001b[0m\u001b[0;36m13\u001b[0m\u001b[0;34m]\u001b[0m \u001b[0;31m# save in memory\u001b[0m\u001b[0;34m\u001b[0m\u001b[0;34m\u001b[0m\u001b[0m\n\u001b[1;32m      4\u001b[0m \u001b[0;34m\u001b[0m\u001b[0m\n\u001b[0;32m----> 5\u001b[0;31m \u001b[0ma\u001b[0m\u001b[0;34m[\u001b[0m\u001b[0;36m4\u001b[0m\u001b[0;34m]\u001b[0m \u001b[0;34m=\u001b[0m \u001b[0;36m500\u001b[0m\u001b[0;34m\u001b[0m\u001b[0;34m\u001b[0m\u001b[0m\n\u001b[0m\u001b[1;32m      6\u001b[0m \u001b[0;34m\u001b[0m\u001b[0m\n\u001b[1;32m      7\u001b[0m \u001b[0mprint\u001b[0m\u001b[0;34m(\u001b[0m\u001b[0ma\u001b[0m\u001b[0;34m)\u001b[0m\u001b[0;34m\u001b[0m\u001b[0;34m\u001b[0m\u001b[0m\n",
            "\u001b[0;31mIndexError\u001b[0m: list assignment index out of range"
          ]
        }
      ]
    },
    {
      "cell_type": "markdown",
      "source": [
        "- `using index it is not possible to do adding or deleting in the Memory for list concept -> in that case please use List Built_in_functions `"
      ],
      "metadata": {
        "id": "7UZXC8W0-gEw"
      }
    },
    {
      "cell_type": "markdown",
      "source": [
        "**Python_List_built_in_functions**\n",
        "\n",
        "\n",
        "**addition**\n",
        "- `append`\n",
        "- `extend`\n",
        "- `insert`\n",
        "\n",
        "**deletion**\n",
        "- `pop`\n",
        "- `remove`\n",
        "\n",
        "**some other activities**\n",
        "- `count`\n",
        "- `index`\n",
        "- `copy`\n",
        "- `clear`\n",
        "- `sort `\n",
        "- `reverse `"
      ],
      "metadata": {
        "id": "_ugazAjH-ub0"
      }
    },
    {
      "cell_type": "code",
      "source": [
        "# append -> it will take the single value from the user and will add to the existing list only at the end\n",
        "\n",
        "a = [10,50,3,13] # save in memory\n",
        "\n",
        "a.append(500)\n",
        "\n",
        "print(a)"
      ],
      "metadata": {
        "colab": {
          "base_uri": "https://localhost:8080/"
        },
        "id": "i7uywWNs92nW",
        "outputId": "c9d2b7dd-40ab-4534-de95-76db3a1846a6"
      },
      "execution_count": null,
      "outputs": [
        {
          "output_type": "stream",
          "name": "stdout",
          "text": [
            "[10, 50, 3, 13, 500]\n"
          ]
        }
      ]
    },
    {
      "cell_type": "code",
      "source": [
        "# extend -> it will take the multiple values from the user and will add to the existing list only at the end\n",
        "\n",
        "\n",
        "a = [10,50,3,13] # save in the Memory\n",
        "\n",
        "a.extend([1,2])\n",
        "\n",
        "print(a)"
      ],
      "metadata": {
        "colab": {
          "base_uri": "https://localhost:8080/"
        },
        "id": "AMSqphh7AXum",
        "outputId": "d0f76ca8-da34-4b2b-ae10-c6b4e33dece5"
      },
      "execution_count": null,
      "outputs": [
        {
          "output_type": "stream",
          "name": "stdout",
          "text": [
            "[10, 50, 3, 13, 1, 2]\n"
          ]
        }
      ]
    },
    {
      "cell_type": "code",
      "source": [
        "# insert -> we can add values where ever we want\n",
        "\n",
        "a = [10,50,3,13] # save in the Memory\n",
        "\n",
        "a.insert(2,300)\n",
        "\n",
        "print(a)"
      ],
      "metadata": {
        "colab": {
          "base_uri": "https://localhost:8080/"
        },
        "id": "RJHsosT7BG1R",
        "outputId": "3228ecdd-58ea-4667-84a6-ac48a0d682cf"
      },
      "execution_count": null,
      "outputs": [
        {
          "output_type": "stream",
          "name": "stdout",
          "text": [
            "[10, 50, 300, 3, 13]\n"
          ]
        }
      ]
    },
    {
      "cell_type": "code",
      "source": [
        "# for deleting\n",
        "\n",
        "# pop -> pop will remove last value defaulty but if we pass a number it will treat like index\n",
        "\n",
        "a = [10,50,3,13] # save in the Memory\n",
        "\n",
        "a.pop()\n",
        "\n",
        "print(a)"
      ],
      "metadata": {
        "colab": {
          "base_uri": "https://localhost:8080/"
        },
        "id": "X6tFSXyLBsrq",
        "outputId": "69d91e08-178b-453f-9621-4090f5dfe864"
      },
      "execution_count": null,
      "outputs": [
        {
          "output_type": "stream",
          "name": "stdout",
          "text": [
            "[10, 50, 3]\n"
          ]
        }
      ]
    },
    {
      "cell_type": "code",
      "source": [
        "# for deleting\n",
        "\n",
        "# pop -> pop will remove last value defaulty but if we pass a number it will treat like index\n",
        "\n",
        "a = [10,50,3,13] # save in the Memory\n",
        "\n",
        "a.pop(2)\n",
        "\n",
        "print(a)"
      ],
      "metadata": {
        "colab": {
          "base_uri": "https://localhost:8080/"
        },
        "id": "dGDvI4-LCbdM",
        "outputId": "328107df-c290-4721-d145-9780a2738e6f"
      },
      "execution_count": null,
      "outputs": [
        {
          "output_type": "stream",
          "name": "stdout",
          "text": [
            "[10, 50, 13]\n"
          ]
        }
      ]
    },
    {
      "cell_type": "code",
      "source": [
        "# remove -> will take value directly and remove the value\n",
        "\n",
        "a = [10,50,3,13] # save in the Memory\n",
        "\n",
        "a.remove(50)\n",
        "\n",
        "print(a)\n"
      ],
      "metadata": {
        "colab": {
          "base_uri": "https://localhost:8080/"
        },
        "id": "5ViZQgglCjJU",
        "outputId": "dcfe8367-6b54-4367-b5f0-5c7ed92c260e"
      },
      "execution_count": null,
      "outputs": [
        {
          "output_type": "stream",
          "name": "stdout",
          "text": [
            "[10, 3, 13]\n"
          ]
        }
      ]
    },
    {
      "cell_type": "code",
      "source": [
        "# replace\n",
        "a = [10,50,3,13] # save in the Memory\n",
        "\n",
        "\n",
        "a[1] = 5\n",
        "\n",
        "print(a)"
      ],
      "metadata": {
        "colab": {
          "base_uri": "https://localhost:8080/"
        },
        "id": "g2VXno4DC9S2",
        "outputId": "09a1b26a-0570-4741-fb74-c55e27d7c635"
      },
      "execution_count": null,
      "outputs": [
        {
          "output_type": "stream",
          "name": "stdout",
          "text": [
            "[10, 5, 3, 13]\n"
          ]
        }
      ]
    },
    {
      "cell_type": "markdown",
      "source": [
        "from the above points we can say that list is mutable"
      ],
      "metadata": {
        "id": "UfBfUAceC-uk"
      }
    },
    {
      "cell_type": "code",
      "source": [
        "# count -> used to count the values\n",
        "\n",
        "a = [1,2,4,5,1,3,19,30,1]\n",
        "\n",
        "print(a.count(19))"
      ],
      "metadata": {
        "colab": {
          "base_uri": "https://localhost:8080/"
        },
        "id": "cGPNwWrADTY4",
        "outputId": "352d8568-52ff-42e2-b416-549c20b73786"
      },
      "execution_count": null,
      "outputs": [
        {
          "output_type": "stream",
          "name": "stdout",
          "text": [
            "1\n"
          ]
        }
      ]
    },
    {
      "cell_type": "code",
      "source": [
        "# index -> used to find the index of a given value\n",
        "\n",
        "a = [1,2,4,5,1,3,19,30,1]\n",
        "\n",
        "print(a.index(19))"
      ],
      "metadata": {
        "colab": {
          "base_uri": "https://localhost:8080/"
        },
        "id": "XHC42JtTECT0",
        "outputId": "db2a07f2-cb9e-4dee-a0c7-8a614242f5b5"
      },
      "execution_count": null,
      "outputs": [
        {
          "output_type": "stream",
          "name": "stdout",
          "text": [
            "6\n"
          ]
        }
      ]
    },
    {
      "cell_type": "code",
      "source": [
        "a = [1,2,4,5]\n",
        "\n",
        "del a\n",
        "\n",
        "print(a)"
      ],
      "metadata": {
        "colab": {
          "base_uri": "https://localhost:8080/",
          "height": 198
        },
        "id": "DRA1ii3YEk56",
        "outputId": "6162de09-0635-4ede-88a3-bc8391d0ca2c"
      },
      "execution_count": null,
      "outputs": [
        {
          "output_type": "error",
          "ename": "NameError",
          "evalue": "name 'a' is not defined",
          "traceback": [
            "\u001b[0;31m---------------------------------------------------------------------------\u001b[0m",
            "\u001b[0;31mNameError\u001b[0m                                 Traceback (most recent call last)",
            "\u001b[0;32m<ipython-input-23-7d1409b5e066>\u001b[0m in \u001b[0;36m<cell line: 5>\u001b[0;34m()\u001b[0m\n\u001b[1;32m      3\u001b[0m \u001b[0;32mdel\u001b[0m \u001b[0ma\u001b[0m\u001b[0;34m\u001b[0m\u001b[0;34m\u001b[0m\u001b[0m\n\u001b[1;32m      4\u001b[0m \u001b[0;34m\u001b[0m\u001b[0m\n\u001b[0;32m----> 5\u001b[0;31m \u001b[0mprint\u001b[0m\u001b[0;34m(\u001b[0m\u001b[0ma\u001b[0m\u001b[0;34m)\u001b[0m\u001b[0;34m\u001b[0m\u001b[0;34m\u001b[0m\u001b[0m\n\u001b[0m",
            "\u001b[0;31mNameError\u001b[0m: name 'a' is not defined"
          ]
        }
      ]
    },
    {
      "cell_type": "code",
      "source": [
        "# clear -> it is used to clear the data from the varibale but varibale will be alive in the memor\n",
        "\n",
        "a = [1,2,4,5]\n",
        "\n",
        "a.clear()\n",
        "\n",
        "print(a)\n"
      ],
      "metadata": {
        "colab": {
          "base_uri": "https://localhost:8080/"
        },
        "id": "9l7YbDPBEcFE",
        "outputId": "32047d63-edec-4936-d2a8-0462829f7803"
      },
      "execution_count": null,
      "outputs": [
        {
          "output_type": "stream",
          "name": "stdout",
          "text": [
            "[]\n"
          ]
        }
      ]
    },
    {
      "cell_type": "code",
      "source": [
        "# copy -> there are 2 types of copy tecnhiques\n",
        "# deep copy and shallow copy\n",
        "\n"
      ],
      "metadata": {
        "id": "ed_0wcb0FZVf"
      },
      "execution_count": null,
      "outputs": []
    },
    {
      "cell_type": "code",
      "source": [
        "# deep copy\n",
        "\n",
        "a = [10,20,50] # saves in the Memory\n",
        "\n",
        "b = a\n",
        "\n",
        "\n",
        "print(a)\n",
        "print(b)\n",
        "\n",
        "print(id(a))\n",
        "print(id(b))\n",
        "\n",
        "a.append(100)\n",
        "\n",
        "print(a)\n",
        "print(b)"
      ],
      "metadata": {
        "colab": {
          "base_uri": "https://localhost:8080/"
        },
        "id": "h3eizf_tGCGD",
        "outputId": "0ba13674-867c-41de-eb7f-ece4c3a6f199"
      },
      "execution_count": null,
      "outputs": [
        {
          "output_type": "stream",
          "name": "stdout",
          "text": [
            "[10, 20, 50]\n",
            "[10, 20, 50]\n",
            "133636950699072\n",
            "133636950699072\n",
            "[10, 20, 50, 100]\n",
            "[10, 20, 50, 100]\n"
          ]
        }
      ]
    },
    {
      "cell_type": "code",
      "source": [
        "# shallow copy\n",
        "\n",
        "# deep copy\n",
        "\n",
        "a = [10,20,50] # saves in the Memory\n",
        "\n",
        "b = a.copy()\n",
        "\n",
        "\n",
        "print(a)\n",
        "print(b)\n",
        "\n",
        "print(id(a))\n",
        "print(id(b))\n",
        "\n",
        "a.append(100)\n",
        "\n",
        "print(a)\n",
        "print(b)"
      ],
      "metadata": {
        "colab": {
          "base_uri": "https://localhost:8080/"
        },
        "id": "K16UQyuXGZy2",
        "outputId": "2b17d455-09cb-4d8b-80ef-eb5cec518a58"
      },
      "execution_count": null,
      "outputs": [
        {
          "output_type": "stream",
          "name": "stdout",
          "text": [
            "[10, 20, 50]\n",
            "[10, 20, 50]\n",
            "133636950697856\n",
            "133637460886528\n",
            "[10, 20, 50, 100]\n",
            "[10, 20, 50]\n"
          ]
        }
      ]
    },
    {
      "cell_type": "code",
      "source": [
        "# reverse -> [::-1]\n",
        "\n",
        "a = [10,20,30,40,50]\n",
        "\n",
        "a.reverse()\n",
        "\n",
        "print(a)"
      ],
      "metadata": {
        "colab": {
          "base_uri": "https://localhost:8080/"
        },
        "id": "AR1LSaUSHLEZ",
        "outputId": "7a517347-248f-4db4-c3dd-f4c248a69487"
      },
      "execution_count": null,
      "outputs": [
        {
          "output_type": "stream",
          "name": "stdout",
          "text": [
            "[50, 40, 30, 20, 10]\n"
          ]
        }
      ]
    },
    {
      "cell_type": "code",
      "source": [
        "# sort -> ascending and descending orders\n",
        "\n",
        "a = [9,1,5,7,11,13,6,2,8]\n",
        "\n",
        "a.sort() # default -> ascending order\n",
        "\n",
        "print(a)"
      ],
      "metadata": {
        "colab": {
          "base_uri": "https://localhost:8080/"
        },
        "id": "LzQYwvtkHvCb",
        "outputId": "de9685c1-66c3-4bd8-9296-7fb768de25bf"
      },
      "execution_count": null,
      "outputs": [
        {
          "output_type": "stream",
          "name": "stdout",
          "text": [
            "[1, 2, 5, 6, 7, 8, 9, 11, 13]\n"
          ]
        }
      ]
    },
    {
      "cell_type": "code",
      "source": [
        "# sort -> ascending and descending orders\n",
        "\n",
        "a = [9,1,5,7,11,13,6,2,8]\n",
        "\n",
        "a.sort(reverse=True) # default -> desceding order\n",
        "\n",
        "print(a)"
      ],
      "metadata": {
        "colab": {
          "base_uri": "https://localhost:8080/"
        },
        "id": "VD5E2QI5IQLQ",
        "outputId": "3fbe0465-d121-401f-f0c9-b5216a5a8a00"
      },
      "execution_count": null,
      "outputs": [
        {
          "output_type": "stream",
          "name": "stdout",
          "text": [
            "[13, 11, 9, 8, 7, 6, 5, 2, 1]\n"
          ]
        }
      ]
    },
    {
      "cell_type": "code",
      "source": [],
      "metadata": {
        "id": "TLGafn3SIhIm"
      },
      "execution_count": null,
      "outputs": []
    }
  ]
}